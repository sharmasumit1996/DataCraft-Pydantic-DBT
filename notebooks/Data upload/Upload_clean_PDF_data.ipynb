{
 "cells": [
  {
   "cell_type": "markdown",
   "id": "c9af0924",
   "metadata": {},
   "source": [
    "# Snowflake SQL Alchemy\n",
    "\n",
    "### Uploading the cleaned PDF data, after using pydantic, pdf metadata and pdf contents into snowflake using Snowflake-SQLAlchemy into our created db"
   ]
  },
  {
   "cell_type": "code",
   "execution_count": null,
   "id": "36f28294",
   "metadata": {},
   "outputs": [],
   "source": [
    "pip install python-dotenv"
   ]
  },
  {
   "cell_type": "code",
   "execution_count": null,
   "id": "6b8821d4",
   "metadata": {},
   "outputs": [],
   "source": [
    "pip install bcrypt"
   ]
  },
  {
   "cell_type": "code",
   "execution_count": null,
   "id": "7623df5c",
   "metadata": {},
   "outputs": [],
   "source": [
    "pip install snowflake-sqlalchemy"
   ]
  },
  {
   "cell_type": "code",
   "execution_count": 1,
   "id": "8b6096f8",
   "metadata": {},
   "outputs": [],
   "source": [
    "#!/usr/bin/env python\n",
    "import warnings\n",
    "warnings.filterwarnings(\"ignore\")\n",
    "from dotenv import load_dotenv\n",
    "from sqlalchemy import create_engine\n",
    "import bcrypt\n",
    "import os\n",
    "import csv"
   ]
  },
  {
   "cell_type": "code",
   "execution_count": 16,
   "id": "b0a7a9ee",
   "metadata": {},
   "outputs": [
    {
     "name": "stdout",
     "output_type": "stream",
     "text": [
      "Conversion completed. Output saved to output.csv\n"
     ]
    }
   ],
   "source": [
    "def convert_to_url(column_data, bucket_name):\n",
    "    # Constructing the URL based on the first column data\n",
    "    trimmed_data = column_data[5:7]\n",
    "    url = f\"https://s3.console.aws.amazon.com/s3/object/{bucket_name}?region=us-east-1&bucketType=general&prefix=Grobid_RR_2024_{trimmed_data}_combined.txt\"\n",
    "    return url\n",
    "\n",
    "load_dotenv()\n",
    "\n",
    "u=os.getenv(\"BUCKET_NAME\")\n",
    "\n",
    "# Open the CSV file for reading and writing\n",
    "with open('../../data/metadata.csv', mode='r') as file:\n",
    "    reader = csv.DictReader(file)\n",
    "    fieldnames = reader.fieldnames + ['URL']\n",
    "    \n",
    "    # Create a new CSV file with an additional column for the URLs\n",
    "    with open('../../data/metadata_new.csv', mode='w', newline='') as output_file:\n",
    "        writer = csv.DictWriter(output_file, fieldnames=fieldnames)\n",
    "        writer.writeheader()\n",
    "        \n",
    "        # Iterate over each row in the CSV file\n",
    "        for row in reader:\n",
    "            column_data = row['filename']  # Assuming the first column contains the data for conversion\n",
    "            url = convert_to_url(column_data, u)\n",
    "            row['URL'] = url\n",
    "            \n",
    "            # Write the modified row to the new CSV file\n",
    "            writer.writerow(row)\n",
    "\n",
    "print(\"Conversion completed. Output saved to output.csv\")\n",
    "\n"
   ]
  },
  {
   "cell_type": "markdown",
   "id": "81c70a38",
   "metadata": {},
   "source": [
    "### Snowflake Testing environment setup & data upload"
   ]
  },
  {
   "cell_type": "code",
   "execution_count": 17,
   "id": "ae6e8ae5",
   "metadata": {},
   "outputs": [],
   "source": [
    "create_test_stage = \"\"\"CREATE STAGE TEST_PDF_STAGING DIRECTORY = ( ENABLE = true );\"\"\""
   ]
  },
  {
   "cell_type": "code",
   "execution_count": 18,
   "id": "3171e287",
   "metadata": {},
   "outputs": [],
   "source": [
    "create_test_contents_table = \"\"\"CREATE OR REPLACE TABLE test_pdf_contents (\n",
    "        ContentID INTEGER,\n",
    "        DocID INTEGER,\n",
    "        Level STRING,\n",
    "        Year INTEGER,\n",
    "        Title STRING,\n",
    "        Article STRING,\n",
    "        LearningOutcome STRING\n",
    "        );\"\"\""
   ]
  },
  {
   "cell_type": "code",
   "execution_count": 19,
   "id": "c60079d9",
   "metadata": {},
   "outputs": [],
   "source": [
    "create_test_metadata_table = \"\"\"CREATE OR REPLACE TABLE test_pdf_metadata (\n",
    "        DocID INTEGER,\n",
    "        Filename STRING,\n",
    "        Title STRING,\n",
    "        IDNo STRING,\n",
    "        Level STRING,\n",
    "        Year INTEGER,\n",
    "        TextLink STRING\n",
    "        );\"\"\""
   ]
  },
  {
   "cell_type": "code",
   "execution_count": 20,
   "id": "01939d00",
   "metadata": {},
   "outputs": [],
   "source": [
    "upload_contents_to_test_stage = \"\"\"PUT file://..\\..\\data\\content.csv @PC_DBT_DB.public.TEST_PDF_STAGING;\"\"\"\n",
    "upload_metadata_to_test_stage = \"\"\"PUT file://..\\..\\data\\metadata_new.csv @PC_DBT_DB.public.TEST_PDF_STAGING;\"\"\""
   ]
  },
  {
   "cell_type": "code",
   "execution_count": 21,
   "id": "377279fd",
   "metadata": {},
   "outputs": [],
   "source": [
    "copy_contents_to_test_table = \"\"\"COPY INTO test_pdf_contents\n",
    "  FROM @PC_DBT_DB.public.TEST_PDF_STAGING\n",
    "  FILE_FORMAT = (type = csv field_optionally_enclosed_by='\"' skip_header = 1)\n",
    "  PATTERN = 'content.csv.gz'\n",
    "  ON_ERROR = 'skip_file';\"\"\""
   ]
  },
  {
   "cell_type": "code",
   "execution_count": 22,
   "id": "96d64bfa",
   "metadata": {},
   "outputs": [],
   "source": [
    "copy_metadata_to_test_table = \"\"\"COPY INTO test_cfa_courses\n",
    "  FROM @PC_DBT_DB.public.TEST_PDF_STAGING\n",
    "  FILE_FORMAT = (type = csv field_optionally_enclosed_by='\"' skip_header = 1)\n",
    "  PATTERN = 'metadata_new.csv.gz'\n",
    "  ON_ERROR = 'skip_file';\"\"\""
   ]
  },
  {
   "cell_type": "markdown",
   "id": "83273636",
   "metadata": {},
   "source": [
    "### Snowflake Production Environment setup & data upload"
   ]
  },
  {
   "cell_type": "code",
   "execution_count": 23,
   "id": "dd1503da",
   "metadata": {},
   "outputs": [],
   "source": [
    "create_prod_stage = \"\"\"CREATE STAGE PDF_STAGING DIRECTORY = ( ENABLE = true );\"\"\""
   ]
  },
  {
   "cell_type": "code",
   "execution_count": 24,
   "id": "6b847bcb",
   "metadata": {},
   "outputs": [],
   "source": [
    "create_prod_table_query = \"\"\"CREATE OR REPLACE TABLE pdf_contents (\n",
    "        ContentID INTEGER,\n",
    "        DocID INTEGER,\n",
    "        Level STRING,\n",
    "        Year INTEGER,\n",
    "        Title STRING,\n",
    "        Article STRING,\n",
    "        LearningOutcome STRING\n",
    "        );\"\"\""
   ]
  },
  {
   "cell_type": "code",
   "execution_count": 25,
   "id": "2ac83268",
   "metadata": {},
   "outputs": [],
   "source": [
    "create_prod_metadata_table = \"\"\"CREATE OR REPLACE TABLE pdf_metadata (\n",
    "        DocID INTEGER,\n",
    "        Filename STRING,\n",
    "        Title STRING,\n",
    "        IDNo STRING,\n",
    "        Level STRING,\n",
    "        Year INTEGER,\n",
    "        TextLink STRING\n",
    "        );\"\"\""
   ]
  },
  {
   "cell_type": "code",
   "execution_count": 26,
   "id": "82e17498",
   "metadata": {},
   "outputs": [],
   "source": [
    "upload_contents_to_prod_stage = \"\"\"PUT file://..\\..\\data\\content.csv @PC_DBT_DB.public.PDF_STAGING;\"\"\"\n",
    "upload_metadata_to_prod_stage = \"\"\"PUT file://..\\..\\data\\metadata_new.csv @PC_DBT_DB.public.PDF_STAGING;\"\"\""
   ]
  },
  {
   "cell_type": "code",
   "execution_count": 27,
   "id": "ce620de7",
   "metadata": {},
   "outputs": [],
   "source": [
    "copy_stage_to_prod_table = \"\"\"COPY INTO pdf_contents\n",
    "  FROM @PC_DBT_DB.public.PDF_STAGING\n",
    "  FILE_FORMAT = (type = csv field_optionally_enclosed_by='\"' skip_header = 1)\n",
    "  PATTERN = 'content.csv.gz'\n",
    "  ON_ERROR = 'skip_file';\"\"\""
   ]
  },
  {
   "cell_type": "code",
   "execution_count": 28,
   "id": "191956db",
   "metadata": {},
   "outputs": [],
   "source": [
    "copy_metadata_to_prod_table = \"\"\"COPY INTO pdf_metadata\n",
    "  FROM @PC_DBT_DB.public.PDF_STAGING\n",
    "  FILE_FORMAT = (type = csv field_optionally_enclosed_by='\"' skip_header = 1)\n",
    "  PATTERN = 'metadata_new.csv.gz'\n",
    "  ON_ERROR = 'skip_file';\"\"\""
   ]
  },
  {
   "cell_type": "code",
   "execution_count": 29,
   "id": "3bbd9172",
   "metadata": {},
   "outputs": [
    {
     "name": "stdout",
     "output_type": "stream",
     "text": [
      "Done\n"
     ]
    }
   ],
   "source": [
    "load_dotenv()\n",
    "\n",
    "u=os.getenv(\"SNOWFLAKE_USER\")\n",
    "p=os.getenv(\"SNOWFLAKE_PASS\")\n",
    "ai=os.getenv(\"SNOWFLAKE_ACCOUNTID\")\n",
    "\n",
    "\n",
    "engine = create_engine(\n",
    "    'snowflake://{user}:{password}@{account_identifier}/'.format(\n",
    "        user=u,\n",
    "        password=p,\n",
    "        account_identifier=ai,\n",
    "    )\n",
    ")\n",
    "\n",
    "\n",
    "\n",
    "try:\n",
    "    connection = engine.connect()\n",
    "    connection.execute(\"USE DATABASE PC_DBT_DB\")\n",
    "    connection.execute(\"USE WAREHOUSE PC_DBT_WH\")\n",
    "    \n",
    "    #results = connection.execute(create_test_stage)\n",
    "    results = connection.execute(create_test_contents_table)\n",
    "    results = connection.execute(create_test_metadata_table)\n",
    "    results = connection.execute(upload_contents_to_test_stage)\n",
    "    results = connection.execute(upload_metadata_to_test_stage)\n",
    "    results = connection.execute(copy_contents_to_test_table)\n",
    "    results = connection.execute(copy_metadata_to_test_table)\n",
    "    \n",
    "    #results = connection.execute(create_prod_stage)\n",
    "    results = connection.execute(create_prod_table_query)\n",
    "    results = connection.execute(create_prod_metadata_table)\n",
    "    results = connection.execute(upload_contents_to_prod_stage)\n",
    "    results = connection.execute(upload_metadata_to_prod_stage)\n",
    "    results = connection.execute(copy_stage_to_prod_table)\n",
    "    results = connection.execute(copy_metadata_to_prod_table)\n",
    "\n",
    "\n",
    "finally:\n",
    "    print(\"Done\")\n",
    "    connection.close()\n",
    "    engine.dispose()"
   ]
  },
  {
   "cell_type": "code",
   "execution_count": null,
   "id": "3c03a303",
   "metadata": {},
   "outputs": [],
   "source": []
  }
 ],
 "metadata": {
  "kernelspec": {
   "display_name": "Python 3 (ipykernel)",
   "language": "python",
   "name": "python3"
  },
  "language_info": {
   "codemirror_mode": {
    "name": "ipython",
    "version": 3
   },
   "file_extension": ".py",
   "mimetype": "text/x-python",
   "name": "python",
   "nbconvert_exporter": "python",
   "pygments_lexer": "ipython3",
   "version": "3.9.13"
  }
 },
 "nbformat": 4,
 "nbformat_minor": 5
}
